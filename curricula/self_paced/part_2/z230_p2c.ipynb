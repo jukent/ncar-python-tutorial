{
 "cells": [
  {
   "cell_type": "markdown",
   "metadata": {},
   "source": [
    "# Python 0-30\n",
    "------------------"
   ]
  },
  {
   "cell_type": "markdown",
   "metadata": {},
   "source": [
    "## Part 2c - The Numpy Package\n",
    "--------------------------------------\n",
    "This is intended to pick off right after part 2b - you had just used the math module to calculate dew point.\n",
    "\n",
    "Now you will use the `numpy` module. `Numpy`is a fundamental package for scientific computation. It is most commonly used to broadcast functions across arrays. Read about `numpy` [here](https://numpy.org/).\n",
    "\n",
    "In this section we will convert our computation to use `numpy`."
   ]
  },
  {
   "cell_type": "markdown",
   "metadata": {},
   "source": [
    "1. [conda] Install or update `numpy`\n",
    "\n",
    "    First, activate your environment\n",
    "    \n",
    "    ```bash\n",
    "    $ conda activate ncar_python_tutorial\n",
    "    ```\n",
    "   \n",
    "   Then install `numpy`\n",
    "   \n",
    "    ```bash\n",
    "    $ conda install numpy\n",
    "    ```"
   ]
  },
  {
   "cell_type": "markdown",
   "metadata": {},
   "source": [
    "2. [python] Get familiar with `numpy` by trying a few examples.\n",
    "\n",
    "    From the ncar_python_tutorial directory (`cd` into it if need be) create a new file called `numpy_tests.py`.\n",
    "    \n",
    "    ```bash\n",
    "   $ touch numpy_test.py\n",
    "   ```\n",
    "   \n",
    "   ```python \n",
    "   import numpy\n",
    "   \n",
    "   numpy.array\n",
    "   type\n",
    "   dtype\n",
    "   shape\n",
    "   reshape\n",
    "   dim\n",
    "   numpy.zeros\n",
    "   numpy.ones\n",
    "   numpy.arange\n",
    "   numpy.linspace\n",
    "   \n",
    "   array math\n",
    "   numpy.sin\n",
    "   sum\n",
    "   min\n",
    "   \n",
    "   \n",
    "   \n",
    "   \n",
    "   \n",
    "   "
   ]
  },
  {
   "cell_type": "markdown",
   "metadata": {},
   "source": [
    "24. move to numpy\n",
    "    \n",
    "    Conda install numpy\n",
    "    And use numpy so you can pass in a list without having to do for loops and zip\n",
    "    convert all 3 scripts to work well with numpy"
   ]
  },
  {
   "cell_type": "markdown",
   "metadata": {},
   "source": [
    "----------------\n",
    "\n",
    "That concludes the third lesson of Part 2. \n",
    "\n",
    "You should now be familiar with the `numpy` package.\n",
    "\n",
    "Please continue to [Part 2d](z230_p2d.ipynb)."
   ]
  }
 ],
 "metadata": {
  "kernelspec": {
   "display_name": "Python 3.7.1 64-bit ('base': conda)",
   "language": "python",
   "name": "python37164bitbaseconda6b971c52470e4265a6ccc73db19c36da"
  },
  "language_info": {
   "codemirror_mode": {
    "name": "ipython",
    "version": 3
   },
   "file_extension": ".py",
   "mimetype": "text/x-python",
   "name": "python",
   "nbconvert_exporter": "python",
   "pygments_lexer": "ipython3",
   "version": "3.7.1"
  }
 },
 "nbformat": 4,
 "nbformat_minor": 2
}
