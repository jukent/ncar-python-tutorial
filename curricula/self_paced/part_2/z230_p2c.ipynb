{
 "cells": [
  {
   "cell_type": "markdown",
   "metadata": {},
   "source": [
    "# Python 0-30\n",
    "------------------"
   ]
  },
  {
   "cell_type": "markdown",
   "metadata": {},
   "source": [
    "## Part 2c - The Numpy Package\n",
    "--------------------------------------\n",
    "This is intended to pick off right after part 2c left off - you had just"
   ]
  },
  {
   "cell_type": "markdown",
   "metadata": {},
   "source": [
    "24. move to numpy\n",
    "    \n",
    "    Conda install numpy\n",
    "    And use numpy so you can pass in a list without having to do for loops and zip\n",
    "    convert all 3 scripts to work well with numpy"
   ]
  },
  {
   "cell_type": "markdown",
   "metadata": {},
   "source": [
    "----------------\n",
    "\n",
    "That concludes the third lesson of Part 2. \n",
    "\n",
    "You should now be familiar with the `numpy` package.\n",
    "\n",
    "Please continue to [Part 2d](z230_p2d.ipynb)."
   ]
  }
 ],
 "metadata": {
  "kernelspec": {
   "display_name": "Python 3.7.1 64-bit ('base': conda)",
   "language": "python",
   "name": "python37164bitbaseconda6b971c52470e4265a6ccc73db19c36da"
  },
  "language_info": {
   "codemirror_mode": {
    "name": "ipython",
    "version": 3
   },
   "file_extension": ".py",
   "mimetype": "text/x-python",
   "name": "python",
   "nbconvert_exporter": "python",
   "pygments_lexer": "ipython3",
   "version": "3.7.1"
  }
 },
 "nbformat": 4,
 "nbformat_minor": 2
}
