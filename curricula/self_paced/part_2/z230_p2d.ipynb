{
 "cells": [
  {
   "cell_type": "markdown",
   "metadata": {},
   "source": [
    "# Python 0-30\n",
    "------------------"
   ]
  },
  {
   "cell_type": "markdown",
   "metadata": {},
   "source": [
    "## Part 2d - Plotting\n",
    "--------------------------------------\n",
    "This is intended to pick off right after part 2a - you had just\n",
    "\n",
    "25. plot time vs dpt, time vs humidity, etc in matplotlib\n",
    "    conda install matplotlib    \n",
    "    \n",
    "26.     contours of dewpoint, axis of temperature and humidity.\n",
    "    but they'd need mapping of dewpoint to 2d (or use numpy to generate a new table of temp and humiity that we compute on)\n",
    "\n",
    "27. get a different data set - satellite data LENS data\n",
    "        take something from the geocat examples (great way to show gallery to recovering NCL users)"
   ]
  }
 ],
 "metadata": {
  "kernelspec": {
   "display_name": "Python 3.7.1 64-bit ('base': conda)",
   "language": "python",
   "name": "python37164bitbaseconda6b971c52470e4265a6ccc73db19c36da"
  },
  "language_info": {
   "codemirror_mode": {
    "name": "ipython",
    "version": 3
   },
   "file_extension": ".py",
   "mimetype": "text/x-python",
   "name": "python",
   "nbconvert_exporter": "python",
   "pygments_lexer": "ipython3",
   "version": "3.7.1"
  }
 },
 "nbformat": 4,
 "nbformat_minor": 2
}
