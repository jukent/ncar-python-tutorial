{
 "cells": [
  {
   "cell_type": "markdown",
   "metadata": {},
   "source": [
    "# Python 0-30\n",
    "------------------"
   ]
  },
  {
   "cell_type": "markdown",
   "metadata": {},
   "source": [
    "## Part 2b - Importing an External Package (math)\n",
    "--------------------------------------\n",
    "This is intended to pick off right after part 2a - you had just created separate `readdata.py`, `printing.py`, and `computation.py` modules to remove redundant code blocks from your scripts.\n",
    "\n",
    "There are many different libraries of code you can import and use. We are only going to teach you the most commonly used libraries, and one at a time in order to reduce any confusion you may have about what each library offers. In part 2b you will import the module `math`"
   ]
  },
  {
   "cell_type": "markdown",
   "metadata": {},
   "source": [
    "1. [python] Add a function for calculating dew point temperature to your `computation.py` module:\n",
    "\n",
    "    Now calculate dew point temperature. The formula for this is:\n",
    "    \n",
    "    $$ \\Gamma = log(h) + \\frac{b * t}{c + t}$$\n",
    "    \n",
    "    $$ DPT = \\frac{c * \\Gamma}{b - \\Gamma}$$\n",
    "\n",
    "    Where `DPT` represents Dew Point Temperature in degrees C, `h` is humidity in %, `t` is temeprature in degrees C, `a` = 6.112 mbar, `b` = 18.678, and `c` = 257.14 degrees C.\n",
    "\n",
    "    In order to do a natural logorithm, we will need to import our first external module: `math`.\n",
    "\n",
    "    Then write the function:\n",
    "    \n",
    "    ```python\n",
    "    import math\n",
    "\n",
    "    def compute_dewpoint(temp, hum):\n",
    "        \"\"\"\n",
    "        Compute the dew point temperature given the temperature and humidity\n",
    "\n",
    "        Parameters:\n",
    "            temp: The temperature in units of F\n",
    "            hum: The relative humidity in units of %\n",
    "        \"\"\"\n",
    "         tempC = (temp - 32) * 5 / 9 #F to C\n",
    "         h = hum / 100\n",
    "        \n",
    "         a = 6.112 #mbar\n",
    "         b = 18.678\n",
    "         c = 257.14 #degC\n",
    "\n",
    "         gamma = math.log(h) + (b * tempC) / (c + tempC)\n",
    "         tdp = c * gamma / (b - gamma)\n",
    "\n",
    "         tdp_F = 9 / 5 * tdp + 32 # convert C to F\n",
    "         return tdp_F\n",
    "    ```"
   ]
  },
  {
   "cell_type": "markdown",
   "metadata": {},
   "source": [
    "18. [git] Add and commit `computation.py`\n",
    "   (`git commit -m \"Function for Computing DPT\"`)"
   ]
  },
  {
   "cell_type": "markdown",
   "metadata": {},
   "source": [
    "19. [bash] Make a copy of your second script:\n",
    "   \n",
    "   ```bash\n",
    "   $ cp windchillcomp.py dewpointtempcomp.py\n",
    "   ```"
   ]
  },
  {
   "cell_type": "markdown",
   "metadata": {},
   "source": [
    "20. [git] Add and commit `dewpointtempcomp.py`\n",
    "   (`git commit -m \"Creating a 3rd Script or DPT calculation\"`)"
   ]
  },
  {
   "cell_type": "markdown",
   "metadata": {},
   "source": [
    "21. Edit `dewpointtempcomp.py`. Make changes to the import statements to include:\n",
    "\n",
    "    ```python\n",
    "    from computation.py import compute_dewpoint\n",
    "    ```\n",
    "\n",
    "    And change your columns and types to include `dewpt`:\n",
    "\n",
    "    ```python\n",
    "    #columns names and column indices to read\n",
    "    columns = {'date':0 , 'time':1, 'tempout':2, 'humout':5, 'dewpt':6}\n",
    "\n",
    "    #data types for each column (only if non-string)\n",
    "    types = {'tempout':float, 'humout':float, 'dewpt':float}\n",
    "    ```\n",
    "\n",
    "    And finally, make changes to the function call and print statements:\n",
    "\n",
    "    ```python\n",
    "    #calculate dewpointtemp\n",
    "    dewpointtemp = [compute_dewpoint(t, h) for t, h in zip(data['tempout'], data['humout'])]\n",
    "\n",
    "    #Output comparison of data\n",
    "    print_comparison('DEW PT', data['date'], data['time'], data['dewpt'], dewpointtemp)\n",
    "    ```"
   ]
  },
  {
   "cell_type": "markdown",
   "metadata": {},
   "source": [
    "22. [git] add and commit\n",
    "    \n",
    "    ```bash\n",
    "    commit -m \"Computed dew point temperature\"\n",
    "    ```"
   ]
  },
  {
   "cell_type": "markdown",
   "metadata": {},
   "source": [
    "23. Learn more about the math module!\n",
    "\n",
    "    Hopefully since you already imported code from your readdata, printing, and computation modules, importing from an external module `math` seemed a little less intimidating.\n",
    "\n",
    "    You only used the `math.log` function, but some other common methods within `math` include:\n",
    "    \n",
    "        `math.pi` which is the value of pi\n",
    "        `math.tan(x)` which returns the tangent of x radiance\n",
    "        `math.radians(x)` which converts angle x from degrees to radians\n",
    "        `math.log10()` which returns the base-10 logarithm of x\n",
    "    \n",
    "    Just to name a few.\n",
    "\n",
    "    You can read more about this module here:\n",
    "    https://docs.python.org/3/library/math.html"
   ]
  },
  {
   "cell_type": "markdown",
   "metadata": {},
   "source": [
    "----------------\n",
    "\n",
    "That concludes the second lesson of Part 2. \n",
    "\n",
    "You should now be familiar with importing external modules and some methods within the `math` module - specifically the log method.\n",
    "\n",
    "Please continue to [Part 2c](z230_p2c.ipynb)."
   ]
  }
 ],
 "metadata": {
  "kernelspec": {
   "display_name": "Python 3",
   "language": "python",
   "name": "python3"
  },
  "language_info": {
   "codemirror_mode": {
    "name": "ipython",
    "version": 3
   },
   "file_extension": ".py",
   "mimetype": "text/x-python",
   "name": "python",
   "nbconvert_exporter": "python",
   "pygments_lexer": "ipython3",
   "version": "3.7.1"
  }
 },
 "nbformat": 4,
 "nbformat_minor": 2
}
